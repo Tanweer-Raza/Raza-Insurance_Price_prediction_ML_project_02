{
 "cells": [
  {
   "cell_type": "markdown",
   "metadata": {},
   "source": [
    "## Testing"
   ]
  },
  {
   "cell_type": "markdown",
   "metadata": {},
   "source": []
  },
  {
   "cell_type": "code",
   "execution_count": 1,
   "metadata": {},
   "outputs": [
    {
     "name": "stdout",
     "output_type": "stream",
     "text": [
      "Requirement already satisfied: PyYAML in e:\\mstudy_material\\itech\\ineuron\\projects\\ml_projects\\machine_learning_project_01(housingpredictions)\\venv\\lib\\site-packages (5.4.1)\n",
      "Note: you may need to restart the kernel to use updated packages.\n"
     ]
    }
   ],
   "source": [
    "pip install PyYAML"
   ]
  },
  {
   "cell_type": "code",
   "execution_count": 2,
   "metadata": {},
   "outputs": [],
   "source": [
    "import os"
   ]
  },
  {
   "cell_type": "code",
   "execution_count": 3,
   "metadata": {},
   "outputs": [
    {
     "data": {
      "text/plain": [
       "'e:\\\\MStudy_material\\\\iTech\\\\iNeuron\\\\Projects\\\\ML_projects\\\\Machine_Learning_Project_02(Insurance Premium Prediction)\\\\Raza-Insurance_Price_prediction_ML_project_02\\\\Notebook'"
      ]
     },
     "execution_count": 3,
     "metadata": {},
     "output_type": "execute_result"
    }
   ],
   "source": [
    "os.getcwd()"
   ]
  },
  {
   "cell_type": "code",
   "execution_count": 4,
   "metadata": {},
   "outputs": [],
   "source": [
    "os.chdir(\"e:\\\\MStudy_material\\\\iTech\\\\iNeuron\\\\Projects\\\\ML_projects\\\\Machine_Learning_Project_02(Insurance Premium Prediction)\\\\Raza-Insurance_Price_prediction_ML_project_02\")"
   ]
  },
  {
   "cell_type": "code",
   "execution_count": 5,
   "metadata": {},
   "outputs": [
    {
     "data": {
      "text/plain": [
       "'e:\\\\MStudy_material\\\\iTech\\\\iNeuron\\\\Projects\\\\ML_projects\\\\Machine_Learning_Project_02(Insurance Premium Prediction)\\\\Raza-Insurance_Price_prediction_ML_project_02'"
      ]
     },
     "execution_count": 5,
     "metadata": {},
     "output_type": "execute_result"
    }
   ],
   "source": [
    "os.getcwd()"
   ]
  },
  {
   "cell_type": "code",
   "execution_count": 6,
   "metadata": {},
   "outputs": [],
   "source": [
    "from insurance_premium.util.util import read_yaml_file"
   ]
  },
  {
   "cell_type": "code",
   "execution_count": 7,
   "metadata": {},
   "outputs": [],
   "source": [
    "yaml_file_path = \"e:\\\\MStudy_material\\\\iTech\\\\iNeuron\\\\Projects\\\\ML_projects\\\\Machine_Learning_Project_02(Insurance Premium Prediction)\\\\Raza-Insurance_Price_prediction_ML_project_02\\\\config\\\\schema.yaml\""
   ]
  },
  {
   "cell_type": "code",
   "execution_count": 8,
   "metadata": {},
   "outputs": [],
   "source": [
    "data_validation_schema_info = read_yaml_file(yaml_file_path)"
   ]
  },
  {
   "cell_type": "code",
   "execution_count": 9,
   "metadata": {},
   "outputs": [],
   "source": [
    "dataset_schema_info= data_validation_schema_info['columns']"
   ]
  },
  {
   "cell_type": "code",
   "execution_count": 10,
   "metadata": {},
   "outputs": [
    {
     "data": {
      "text/plain": [
       "{'age': 'int',\n",
       " 'sex': 'object',\n",
       " 'bmi': 'float',\n",
       " 'children': 'int',\n",
       " 'smoker': 'object',\n",
       " 'region': 'object',\n",
       " 'expenses': 'float'}"
      ]
     },
     "execution_count": 10,
     "metadata": {},
     "output_type": "execute_result"
    }
   ],
   "source": [
    "dataset_schema_info"
   ]
  },
  {
   "cell_type": "code",
   "execution_count": 11,
   "metadata": {},
   "outputs": [
    {
     "data": {
      "text/plain": [
       "7"
      ]
     },
     "execution_count": 11,
     "metadata": {},
     "output_type": "execute_result"
    }
   ],
   "source": [
    "len(dataset_schema_info.keys())"
   ]
  },
  {
   "cell_type": "code",
   "execution_count": 12,
   "metadata": {},
   "outputs": [
    {
     "data": {
      "text/plain": [
       "['age', 'sex', 'bmi', 'children', 'smoker', 'region', 'expenses']"
      ]
     },
     "execution_count": 12,
     "metadata": {},
     "output_type": "execute_result"
    }
   ],
   "source": [
    "list(dataset_schema_info.keys())"
   ]
  },
  {
   "cell_type": "code",
   "execution_count": 13,
   "metadata": {},
   "outputs": [],
   "source": [
    "import pandas as pd\n",
    "train_df = pd.read_csv(r\"E:\\MStudy_material\\iTech\\iNeuron\\Projects\\ML_projects\\Machine_Learning_Project_02(Insurance Premium Prediction)\\Raza-Insurance_Price_prediction_ML_project_02\\insurance_premium\\artifact\\data_ingestion\\2022-09-14-13-41-50\\ingested_data\\train\\insurance.csv\")\n",
    "test_df = pd.read_csv(r\"E:\\MStudy_material\\iTech\\iNeuron\\Projects\\ML_projects\\Machine_Learning_Project_02(Insurance Premium Prediction)\\Raza-Insurance_Price_prediction_ML_project_02\\insurance_premium\\artifact\\data_ingestion\\2022-09-14-13-41-50\\ingested_data\\test\\insurance.csv\")"
   ]
  },
  {
   "cell_type": "code",
   "execution_count": 14,
   "metadata": {},
   "outputs": [],
   "source": [
    "data_validation_schema_info = read_yaml_file(yaml_file_path)"
   ]
  },
  {
   "cell_type": "code",
   "execution_count": 15,
   "metadata": {},
   "outputs": [],
   "source": [
    "COLUMN_AGE = \"age\"\n",
    "COLUMN_SEX = \"sex\"\n",
    "COLUMN_BMI = \"bmi\"\n",
    "COLUMN_CHILDREN = \"children\"\n",
    "COLUMN_SMOKER= \"smoker\"\n",
    "COLUMN_REGION = \"region\"\n",
    "DATASET_SCHEMA_COLUMNS_KEY = \"columns\"\n",
    "\n",
    "TARGET_COLUMN_KEY = \"target_column\"\n",
    "\n",
    "NUMERICAL_COLUMN_KEY = \"numerical_columns\"\n",
    "CATEGORICAL_COLUMN_KEY = \"categorical_columns\"\n",
    "\n",
    "DOMAIN_VALUES_COLUMN_KEY = \"domain_value\""
   ]
  },
  {
   "cell_type": "code",
   "execution_count": 16,
   "metadata": {},
   "outputs": [],
   "source": [
    "def validation_status_check():\n",
    "    validation_status = False\n",
    "    dataset_schema_info =  data_validation_schema_info[DATASET_SCHEMA_COLUMNS_KEY]\n",
    "    domain_values_info = data_validation_schema_info[DOMAIN_VALUES_COLUMN_KEY]\n",
    "    dataset_columns_name = set(dataset_schema_info.keys())\n",
    "    train_columns_name = set(train_df.columns)\n",
    "    test_columns_name = set(test_df.columns)\n",
    "    data_set_column_number = len(dataset_columns_name)\n",
    "    train_column_number = len(train_columns_name)\n",
    "    test_column_number = len(test_columns_name)\n",
    "\n",
    "    sex_domain_value = set(domain_values_info[COLUMN_SEX])\n",
    "    region_domain_value = set(domain_values_info[COLUMN_REGION])\n",
    "    smoker_domain_value = set(domain_values_info[COLUMN_SMOKER])\n",
    "\n",
    "    train_domain_value_sex = set(train_df[COLUMN_SEX].unique())\n",
    "    train_domain_value_region = set(train_df[COLUMN_REGION].unique())\n",
    "    train_domain_value_smoker = set(train_df[COLUMN_SMOKER].unique())\n",
    "\n",
    "    test_domain_value_sex = set(test_df[COLUMN_SEX].unique())\n",
    "    test_domain_value_region = set(test_df[COLUMN_REGION].unique())\n",
    "    test_domain_value_smoker = set(test_df[COLUMN_SMOKER].unique())\n",
    "\n",
    "    if (train_column_number == data_set_column_number) and (test_column_number == data_set_column_number):\n",
    "        if (train_columns_name == dataset_columns_name) and (test_columns_name == dataset_columns_name):\n",
    "            if (train_domain_value_sex == sex_domain_value) and (test_domain_value_sex == sex_domain_value):\n",
    "                if (train_domain_value_region == region_domain_value) and (test_domain_value_region == region_domain_value):\n",
    "                    if (train_domain_value_smoker == smoker_domain_value) and (test_domain_value_smoker == smoker_domain_value):\n",
    "                        validation_status = True\n",
    "    else:\n",
    "        pass\n",
    "    return validation_status\n"
   ]
  },
  {
   "cell_type": "code",
   "execution_count": 17,
   "metadata": {},
   "outputs": [
    {
     "data": {
      "text/plain": [
       "True"
      ]
     },
     "execution_count": 17,
     "metadata": {},
     "output_type": "execute_result"
    }
   ],
   "source": [
    "validation_status_check()"
   ]
  },
  {
   "cell_type": "code",
   "execution_count": null,
   "metadata": {},
   "outputs": [],
   "source": []
  }
 ],
 "metadata": {
  "kernelspec": {
   "display_name": "Python 3.7.0",
   "language": "python",
   "name": "python3"
  },
  "language_info": {
   "codemirror_mode": {
    "name": "ipython",
    "version": 3
   },
   "file_extension": ".py",
   "mimetype": "text/x-python",
   "name": "python",
   "nbconvert_exporter": "python",
   "pygments_lexer": "ipython3",
   "version": "3.7.13"
  },
  "orig_nbformat": 4,
  "vscode": {
   "interpreter": {
    "hash": "7b6ad57576173c4acb043713d48872d93c4cb8b053e90ef04ad9929009aa96a6"
   }
  }
 },
 "nbformat": 4,
 "nbformat_minor": 2
}
